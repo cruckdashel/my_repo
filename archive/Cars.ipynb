{
 "cells": [
  {
   "cell_type": "code",
   "execution_count": 1,
   "id": "de864a79-2e22-446a-b36f-12a106ec4b23",
   "metadata": {},
   "outputs": [],
   "source": [
    "%matplotlib notebook\n",
    "\n",
    "import pandas as pd\n",
    "import seaborn as sns\n",
    "import matplotlib.pyplot as plt\n",
    "import numpy as np\n",
    "import re\n",
    "import IPython\n"
   ]
  },
  {
   "cell_type": "code",
   "execution_count": 2,
   "id": "45a74596-20b9-4be2-abe7-6ad5b235b247",
   "metadata": {},
   "outputs": [],
   "source": [
    "cars = pd.read_csv('cars.csv')\n"
   ]
  },
  {
   "cell_type": "code",
   "execution_count": 3,
   "id": "9d94f11d-2b50-4d53-a6f9-759dea5d73ec",
   "metadata": {},
   "outputs": [
    {
     "name": "stdout",
     "output_type": "stream",
     "text": [
      "   Car_ID    Brand    Model  Year  Kilometers_Driven Fuel_Type Transmission  \\\n",
      "0       1   Toyota  Corolla  2018              50000    Petrol       Manual   \n",
      "1       2    Honda    Civic  2019              40000    Petrol    Automatic   \n",
      "2       3     Ford  Mustang  2017              20000    Petrol    Automatic   \n",
      "3       4   Maruti    Swift  2020              30000    Diesel       Manual   \n",
      "4       5  Hyundai   Sonata  2016              60000    Diesel    Automatic   \n",
      "\n",
      "  Owner_Type  Mileage  Engine  Power  Seats    Price      USD  \n",
      "0      First       15    1498    108      5   800000   9600.0  \n",
      "1     Second       17    1597    140      5  1000000  12000.0  \n",
      "2      First       10    4951    395      4  2500000  30000.0  \n",
      "3      Third       23    1248     74      5   600000   7200.0  \n",
      "4     Second       18    1999    194      5   850000  10200.0  \n"
     ]
    }
   ],
   "source": [
    "cars['USD'] = cars.Price * 0.012\n",
    "print(cars.head())"
   ]
  },
  {
   "cell_type": "code",
   "execution_count": null,
   "id": "5ab20502-6538-4b0f-a049-e604d5762edc",
   "metadata": {},
   "outputs": [],
   "source": []
  },
  {
   "cell_type": "code",
   "execution_count": 4,
   "id": "2fb85c1d-b2de-42ed-a452-0f599fcb63ed",
   "metadata": {},
   "outputs": [],
   "source": [
    "cars.rename(columns ={'Mileage' : 'KML'}, inplace = True)"
   ]
  },
  {
   "cell_type": "code",
   "execution_count": 5,
   "id": "b41b9cff-fb66-4c91-bfcb-35a25c311040",
   "metadata": {},
   "outputs": [],
   "source": [
    "cars['MPG'] = cars['KML'] * 2.352"
   ]
  },
  {
   "cell_type": "code",
   "execution_count": 6,
   "id": "0af9c834-c398-4c6d-a1c0-807c700bbd72",
   "metadata": {},
   "outputs": [
    {
     "name": "stdout",
     "output_type": "stream",
     "text": [
      "   Car_ID    Brand    Model  Year  Kilometers_Driven Fuel_Type Transmission  \\\n",
      "0       1   Toyota  Corolla  2018              50000    Petrol       Manual   \n",
      "1       2    Honda    Civic  2019              40000    Petrol    Automatic   \n",
      "2       3     Ford  Mustang  2017              20000    Petrol    Automatic   \n",
      "3       4   Maruti    Swift  2020              30000    Diesel       Manual   \n",
      "4       5  Hyundai   Sonata  2016              60000    Diesel    Automatic   \n",
      "\n",
      "  Owner_Type  KML  Engine  Power  Seats    Price      USD     MPG  \n",
      "0      First   15    1498    108      5   800000   9600.0  35.280  \n",
      "1     Second   17    1597    140      5  1000000  12000.0  39.984  \n",
      "2      First   10    4951    395      4  2500000  30000.0  23.520  \n",
      "3      Third   23    1248     74      5   600000   7200.0  54.096  \n",
      "4     Second   18    1999    194      5   850000  10200.0  42.336  \n"
     ]
    }
   ],
   "source": [
    "print(cars.head())"
   ]
  },
  {
   "cell_type": "code",
   "execution_count": 16,
   "id": "3a118b5b-9df5-4cad-aa4c-33e4c0797a16",
   "metadata": {},
   "outputs": [],
   "source": [
    "column = cars.pop('MPG')\n",
    "cars.insert(9, 'MPG', column)"
   ]
  },
  {
   "cell_type": "code",
   "execution_count": 17,
   "id": "b9db551f-d4f2-431a-8cb9-cfed262a7b43",
   "metadata": {},
   "outputs": [
    {
     "name": "stdout",
     "output_type": "stream",
     "text": [
      "   Car_ID    Brand    Model  Year  Kilometers_Driven Fuel_Type Transmission  \\\n",
      "0       1   Toyota  Corolla  2018              50000    Petrol       Manual   \n",
      "1       2    Honda    Civic  2019              40000    Petrol    Automatic   \n",
      "2       3     Ford  Mustang  2017              20000    Petrol    Automatic   \n",
      "3       4   Maruti    Swift  2020              30000    Diesel       Manual   \n",
      "4       5  Hyundai   Sonata  2016              60000    Diesel    Automatic   \n",
      "\n",
      "  Owner_Type  KML   MPG  Engine  Power  Seats    Price      USD  \n",
      "0      First   15  35.0    1498    108      5   800000   9600.0  \n",
      "1     Second   17  40.0    1597    140      5  1000000  12000.0  \n",
      "2      First   10  24.0    4951    395      4  2500000  30000.0  \n",
      "3      Third   23  54.0    1248     74      5   600000   7200.0  \n",
      "4     Second   18  42.0    1999    194      5   850000  10200.0  \n"
     ]
    }
   ],
   "source": [
    "print(cars.head())"
   ]
  },
  {
   "cell_type": "code",
   "execution_count": 18,
   "id": "3806dfc5-68d5-4140-8c8b-fc4b25bdf7b6",
   "metadata": {},
   "outputs": [],
   "source": [
    "cars['MPG'] = cars['MPG'].round()"
   ]
  },
  {
   "cell_type": "code",
   "execution_count": 19,
   "id": "cc179677-2108-40b5-88d7-b0921c1e18f6",
   "metadata": {},
   "outputs": [
    {
     "name": "stdout",
     "output_type": "stream",
     "text": [
      "   Car_ID    Brand    Model  Year  Kilometers_Driven Fuel_Type Transmission  \\\n",
      "0       1   Toyota  Corolla  2018              50000    Petrol       Manual   \n",
      "1       2    Honda    Civic  2019              40000    Petrol    Automatic   \n",
      "2       3     Ford  Mustang  2017              20000    Petrol    Automatic   \n",
      "3       4   Maruti    Swift  2020              30000    Diesel       Manual   \n",
      "4       5  Hyundai   Sonata  2016              60000    Diesel    Automatic   \n",
      "\n",
      "  Owner_Type  KML   MPG  Engine  Power  Seats    Price      USD  \n",
      "0      First   15  35.0    1498    108      5   800000   9600.0  \n",
      "1     Second   17  40.0    1597    140      5  1000000  12000.0  \n",
      "2      First   10  24.0    4951    395      4  2500000  30000.0  \n",
      "3      Third   23  54.0    1248     74      5   600000   7200.0  \n",
      "4     Second   18  42.0    1999    194      5   850000  10200.0  \n"
     ]
    }
   ],
   "source": [
    "print(cars.head())"
   ]
  },
  {
   "cell_type": "code",
   "execution_count": 20,
   "id": "9acfe52a-2e48-4c15-9d3e-dfc959409951",
   "metadata": {},
   "outputs": [],
   "source": [
    "cars.to_csv('updated_cars_1.csv')"
   ]
  },
  {
   "cell_type": "code",
   "execution_count": 21,
   "id": "594f0c9c-bbc3-4e7b-b45e-28bf102a393d",
   "metadata": {},
   "outputs": [
    {
     "name": "stdout",
     "output_type": "stream",
     "text": [
      "Car_ID                 int64\n",
      "Brand                 object\n",
      "Model                 object\n",
      "Year                   int64\n",
      "Kilometers_Driven      int64\n",
      "Fuel_Type             object\n",
      "Transmission          object\n",
      "Owner_Type            object\n",
      "KML                    int64\n",
      "MPG                  float64\n",
      "Engine                 int64\n",
      "Power                  int64\n",
      "Seats                  int64\n",
      "Price                  int64\n",
      "USD                  float64\n",
      "dtype: object\n"
     ]
    }
   ],
   "source": [
    "print(cars.dtypes)"
   ]
  },
  {
   "cell_type": "code",
   "execution_count": 22,
   "id": "620a364c-d42a-41f2-be7c-7274359a4f16",
   "metadata": {},
   "outputs": [
    {
     "data": {
      "text/html": [
       "<div>\n",
       "<style scoped>\n",
       "    .dataframe tbody tr th:only-of-type {\n",
       "        vertical-align: middle;\n",
       "    }\n",
       "\n",
       "    .dataframe tbody tr th {\n",
       "        vertical-align: top;\n",
       "    }\n",
       "\n",
       "    .dataframe thead th {\n",
       "        text-align: right;\n",
       "    }\n",
       "</style>\n",
       "<table border=\"1\" class=\"dataframe\">\n",
       "  <thead>\n",
       "    <tr style=\"text-align: right;\">\n",
       "      <th></th>\n",
       "      <th>Car_ID</th>\n",
       "      <th>Year</th>\n",
       "      <th>Kilometers_Driven</th>\n",
       "      <th>KML</th>\n",
       "      <th>MPG</th>\n",
       "      <th>Engine</th>\n",
       "      <th>Power</th>\n",
       "      <th>Seats</th>\n",
       "      <th>Price</th>\n",
       "      <th>USD</th>\n",
       "    </tr>\n",
       "  </thead>\n",
       "  <tbody>\n",
       "    <tr>\n",
       "      <th>count</th>\n",
       "      <td>100.000000</td>\n",
       "      <td>100.00000</td>\n",
       "      <td>100.000000</td>\n",
       "      <td>100.000000</td>\n",
       "      <td>100.000000</td>\n",
       "      <td>100.000000</td>\n",
       "      <td>100.000000</td>\n",
       "      <td>100.000000</td>\n",
       "      <td>1.000000e+02</td>\n",
       "      <td>100.000000</td>\n",
       "    </tr>\n",
       "    <tr>\n",
       "      <th>mean</th>\n",
       "      <td>50.500000</td>\n",
       "      <td>2018.39000</td>\n",
       "      <td>28150.000000</td>\n",
       "      <td>17.210000</td>\n",
       "      <td>40.440000</td>\n",
       "      <td>1855.230000</td>\n",
       "      <td>158.130000</td>\n",
       "      <td>5.230000</td>\n",
       "      <td>1.574000e+06</td>\n",
       "      <td>18888.000000</td>\n",
       "    </tr>\n",
       "    <tr>\n",
       "      <th>std</th>\n",
       "      <td>29.011492</td>\n",
       "      <td>1.17116</td>\n",
       "      <td>9121.375716</td>\n",
       "      <td>3.309902</td>\n",
       "      <td>7.758111</td>\n",
       "      <td>631.311475</td>\n",
       "      <td>76.968137</td>\n",
       "      <td>0.750151</td>\n",
       "      <td>1.000265e+06</td>\n",
       "      <td>12003.175337</td>\n",
       "    </tr>\n",
       "    <tr>\n",
       "      <th>min</th>\n",
       "      <td>1.000000</td>\n",
       "      <td>2016.00000</td>\n",
       "      <td>10000.000000</td>\n",
       "      <td>10.000000</td>\n",
       "      <td>24.000000</td>\n",
       "      <td>999.000000</td>\n",
       "      <td>68.000000</td>\n",
       "      <td>4.000000</td>\n",
       "      <td>4.500000e+05</td>\n",
       "      <td>5400.000000</td>\n",
       "    </tr>\n",
       "    <tr>\n",
       "      <th>25%</th>\n",
       "      <td>25.750000</td>\n",
       "      <td>2017.75000</td>\n",
       "      <td>22000.000000</td>\n",
       "      <td>15.000000</td>\n",
       "      <td>35.000000</td>\n",
       "      <td>1462.000000</td>\n",
       "      <td>103.000000</td>\n",
       "      <td>5.000000</td>\n",
       "      <td>7.000000e+05</td>\n",
       "      <td>8400.000000</td>\n",
       "    </tr>\n",
       "    <tr>\n",
       "      <th>50%</th>\n",
       "      <td>50.500000</td>\n",
       "      <td>2018.00000</td>\n",
       "      <td>27000.000000</td>\n",
       "      <td>17.000000</td>\n",
       "      <td>40.000000</td>\n",
       "      <td>1774.000000</td>\n",
       "      <td>148.000000</td>\n",
       "      <td>5.000000</td>\n",
       "      <td>1.300000e+06</td>\n",
       "      <td>15600.000000</td>\n",
       "    </tr>\n",
       "    <tr>\n",
       "      <th>75%</th>\n",
       "      <td>75.250000</td>\n",
       "      <td>2019.00000</td>\n",
       "      <td>32000.000000</td>\n",
       "      <td>19.000000</td>\n",
       "      <td>45.000000</td>\n",
       "      <td>2143.000000</td>\n",
       "      <td>187.000000</td>\n",
       "      <td>5.000000</td>\n",
       "      <td>2.500000e+06</td>\n",
       "      <td>30000.000000</td>\n",
       "    </tr>\n",
       "    <tr>\n",
       "      <th>max</th>\n",
       "      <td>100.000000</td>\n",
       "      <td>2021.00000</td>\n",
       "      <td>60000.000000</td>\n",
       "      <td>25.000000</td>\n",
       "      <td>59.000000</td>\n",
       "      <td>4951.000000</td>\n",
       "      <td>396.000000</td>\n",
       "      <td>7.000000</td>\n",
       "      <td>4.000000e+06</td>\n",
       "      <td>48000.000000</td>\n",
       "    </tr>\n",
       "  </tbody>\n",
       "</table>\n",
       "</div>"
      ],
      "text/plain": [
       "           Car_ID        Year  Kilometers_Driven         KML         MPG  \\\n",
       "count  100.000000   100.00000         100.000000  100.000000  100.000000   \n",
       "mean    50.500000  2018.39000       28150.000000   17.210000   40.440000   \n",
       "std     29.011492     1.17116        9121.375716    3.309902    7.758111   \n",
       "min      1.000000  2016.00000       10000.000000   10.000000   24.000000   \n",
       "25%     25.750000  2017.75000       22000.000000   15.000000   35.000000   \n",
       "50%     50.500000  2018.00000       27000.000000   17.000000   40.000000   \n",
       "75%     75.250000  2019.00000       32000.000000   19.000000   45.000000   \n",
       "max    100.000000  2021.00000       60000.000000   25.000000   59.000000   \n",
       "\n",
       "            Engine       Power       Seats         Price           USD  \n",
       "count   100.000000  100.000000  100.000000  1.000000e+02    100.000000  \n",
       "mean   1855.230000  158.130000    5.230000  1.574000e+06  18888.000000  \n",
       "std     631.311475   76.968137    0.750151  1.000265e+06  12003.175337  \n",
       "min     999.000000   68.000000    4.000000  4.500000e+05   5400.000000  \n",
       "25%    1462.000000  103.000000    5.000000  7.000000e+05   8400.000000  \n",
       "50%    1774.000000  148.000000    5.000000  1.300000e+06  15600.000000  \n",
       "75%    2143.000000  187.000000    5.000000  2.500000e+06  30000.000000  \n",
       "max    4951.000000  396.000000    7.000000  4.000000e+06  48000.000000  "
      ]
     },
     "execution_count": 22,
     "metadata": {},
     "output_type": "execute_result"
    }
   ],
   "source": [
    "cars.describe()"
   ]
  },
  {
   "cell_type": "code",
   "execution_count": null,
   "id": "408f7cae-af34-4b33-b06a-90f072c44479",
   "metadata": {},
   "outputs": [],
   "source": []
  }
 ],
 "metadata": {
  "kernelspec": {
   "display_name": "Python 3 (ipykernel)",
   "language": "python",
   "name": "python3"
  },
  "language_info": {
   "codemirror_mode": {
    "name": "ipython",
    "version": 3
   },
   "file_extension": ".py",
   "mimetype": "text/x-python",
   "name": "python",
   "nbconvert_exporter": "python",
   "pygments_lexer": "ipython3",
   "version": "3.11.7"
  }
 },
 "nbformat": 4,
 "nbformat_minor": 5
}
